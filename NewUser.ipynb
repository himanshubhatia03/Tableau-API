{
 "cells": [
  {
   "cell_type": "code",
   "execution_count": null,
   "metadata": {},
   "outputs": [],
   "source": [
    "tableau_server_config = {\n",
    "        'tableau_prod': {\n",
    "                'server': 'https://lending_club.com',  \n",
    "                'api_version': '3.4',\n",
    "                'username': 'Admin',\n",
    "                'password': '*****',\n",
    "                'site_name': 'Lending Club Tableau',\n",
    "                'site_url': 'LendingClubTableau'\n",
    "        }\n",
    "}\n",
    "from tableau_api_lib import TableauServerConnection\n",
    "\n",
    "connection = TableauServerConnection(tableau_server_config)\n",
    "\n",
    "connection.sign_in()\n",
    "\n",
    "user_details = conn.add_user_to_site(user_name='Himanshu', site_role='publisher')\n",
    "\n",
    "new_user_details = response.json()['user']['id']\n",
    "\n",
    "response = conn.update_user(\n",
    "user_id=new_user_details,  \n",
    "new_email='himanshubhatia03@gmail.com',  \n",
    "new_full_name='Himanshu Bhatia', \n",
    "new_password='Admin123')\n",
    "\n",
    "\n",
    "\n",
    "\n"
   ]
  }
 ],
 "metadata": {
  "kernelspec": {
   "display_name": "Python 3",
   "language": "python",
   "name": "python3"
  },
  "language_info": {
   "codemirror_mode": {
    "name": "ipython",
    "version": 3
   },
   "file_extension": ".py",
   "mimetype": "text/x-python",
   "name": "python",
   "nbconvert_exporter": "python",
   "pygments_lexer": "ipython3",
   "version": "3.9.0"
  }
 },
 "nbformat": 4,
 "nbformat_minor": 4
}
