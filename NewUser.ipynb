{
 "cells": [
  {
   "cell_type": "code",
   "execution_count": 2,
   "metadata": {},
   "outputs": [
    {
     "ename": "ModuleNotFoundError",
     "evalue": "No module named 'tableau_api_lib'",
     "output_type": "error",
     "traceback": [
      "\u001b[1;31m---------------------------------------------------------------------------\u001b[0m",
      "\u001b[1;31mModuleNotFoundError\u001b[0m                       Traceback (most recent call last)",
      "\u001b[1;32m<ipython-input-2-910e4c0b98c6>\u001b[0m in \u001b[0;36m<module>\u001b[1;34m\u001b[0m\n\u001b[0;32m      9\u001b[0m         }\n\u001b[0;32m     10\u001b[0m }\n\u001b[1;32m---> 11\u001b[1;33m \u001b[1;32mfrom\u001b[0m \u001b[0mtableau_api_lib\u001b[0m \u001b[1;32mimport\u001b[0m \u001b[0mTableauServerConnection\u001b[0m\u001b[1;33m\u001b[0m\u001b[1;33m\u001b[0m\u001b[0m\n\u001b[0m\u001b[0;32m     12\u001b[0m \u001b[1;33m\u001b[0m\u001b[0m\n\u001b[0;32m     13\u001b[0m \u001b[0mconnection\u001b[0m \u001b[1;33m=\u001b[0m \u001b[0mTableauServerConnection\u001b[0m\u001b[1;33m(\u001b[0m\u001b[0mtableau_server_config\u001b[0m\u001b[1;33m)\u001b[0m\u001b[1;33m\u001b[0m\u001b[1;33m\u001b[0m\u001b[0m\n",
      "\u001b[1;31mModuleNotFoundError\u001b[0m: No module named 'tableau_api_lib'"
     ]
    }
   ],
   "source": [
    "tableau_server_config = {\n",
    "        'tableau_prod': {\n",
    "                'server': 'https://lending_club.com',  \n",
    "                'api_version': '3.4',\n",
    "                'username': 'Admin',\n",
    "                'password': '*****',\n",
    "                'site_name': 'Lending Club Tableau',\n",
    "                'site_url': 'LendingClubTableau'\n",
    "        }\n",
    "}\n",
    "from tableau_api_lib import TableauServerConnection\n",
    "\n",
    "connection = TableauServerConnection(tableau_server_config)\n",
    "\n",
    "connection.sign_in()\n",
    "\n",
    "user_details = conn.add_user_to_site(user_name='Himanshu', site_role='publisher')\n",
    "\n",
    "new_user_details = response.json()['user']['id']\n",
    "\n",
    "response = conn.update_user(\n",
    "user_id=new_user_details,  \n",
    "new_email='himanshubhatia03@gmail.com',  \n",
    "new_full_name='Himanshu Bhatia', \n",
    "new_password='Admin123')\n",
    "\n",
    "conn.sign_out()\n",
    "\n",
    "\n",
    "\n"
   ]
  },
  {
   "cell_type": "code",
   "execution_count": null,
   "metadata": {},
   "outputs": [],
   "source": []
  }
 ],
 "metadata": {
  "kernelspec": {
   "display_name": "Python 3",
   "language": "python",
   "name": "python3"
  },
  "language_info": {
   "codemirror_mode": {
    "name": "ipython",
    "version": 3
   },
   "file_extension": ".py",
   "mimetype": "text/x-python",
   "name": "python",
   "nbconvert_exporter": "python",
   "pygments_lexer": "ipython3",
   "version": "3.9.0"
  }
 },
 "nbformat": 4,
 "nbformat_minor": 4
}
